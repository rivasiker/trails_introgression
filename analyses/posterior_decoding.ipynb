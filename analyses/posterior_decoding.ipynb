{
 "cells": [
  {
   "cell_type": "code",
   "execution_count": 30,
   "metadata": {},
   "outputs": [],
   "source": [
    "import msprime\n",
    "from trails.cutpoints import cutpoints_ABC, cutpoints_AB\n",
    "import re\n",
    "from ray import shutdown\n",
    "# %load_ext rpy2.ipython"
   ]
  },
  {
   "cell_type": "code",
   "execution_count": 31,
   "metadata": {},
   "outputs": [],
   "source": [
    "import pandas as pd\n",
    "import numpy as np\n",
    "\n",
    "n_int_AB = 1\n",
    "n_int_ABC = 1\n",
    "\n",
    "mu = 1.25e-8\n",
    "g = 29\n",
    "N_AB = 7_000*2*mu\n",
    "N_BC = 7_000*2*mu\n",
    "N_ABC = 7_000*2*mu\n",
    "N_ref = N_ABC\n",
    "t_1 = 62_041/g*mu\n",
    "# t_2 = (580_000-t_1)/g*mu\n",
    "# t_3 = (6_000_000-t_2)/g*mu\n",
    "t_2 = 580_000/g*mu-t_1\n",
    "t_3 = 6_000_000/g*mu-t_2\n",
    "t_A = t_1\n",
    "t_B = t_1\n",
    "t_C = t_1+t_2\n",
    "t_m = t_1-54_000/g*mu\n",
    "t_upper = t_3-cutpoints_ABC(n_int_ABC,  1/N_ABC)[-2]\n",
    "t_out = t_1+t_2+t_3+2*N_ABC\n",
    "r = 1e-8/mu\n",
    "mu = mu/mu\n",
    "m = 0.02\n",
    "\n",
    "seed = 2"
   ]
  },
  {
   "cell_type": "code",
   "execution_count": 32,
   "metadata": {},
   "outputs": [
    {
     "data": {
      "text/plain": [
       "0.186072577384884"
      ]
     },
     "execution_count": 32,
     "metadata": {},
     "output_type": "execute_result"
    }
   ],
   "source": [
    "m*(2/3)*np.exp(-(t_2+t_m)/(N_AB))+(1-m)*(2/3)*np.exp(-(t_2)/(N_BC))"
   ]
  },
  {
   "cell_type": "code",
   "execution_count": 35,
   "metadata": {},
   "outputs": [
    {
     "data": {
      "text/plain": [
       "array([[9.99948446e-01, 1.71003529e-05, 1.71003529e-05, 1.71003529e-05,\n",
       "        2.53250729e-07],\n",
       "       [1.29832218e-04, 9.99703523e-01, 8.20284476e-05, 8.19190624e-05,\n",
       "        2.69697622e-06],\n",
       "       [1.29832218e-04, 8.20284476e-05, 9.99696952e-01, 8.84908558e-05,\n",
       "        2.69697622e-06],\n",
       "       [1.29832218e-04, 8.19190624e-05, 8.84908558e-05, 9.99697061e-01,\n",
       "        2.69697622e-06],\n",
       "       [1.23157256e-05, 1.72746404e-05, 1.72746404e-05, 1.72746404e-05,\n",
       "        9.99935860e-01]])"
      ]
     },
     "execution_count": 35,
     "metadata": {},
     "output_type": "execute_result"
    }
   ],
   "source": [
    "from trails.optimizer import trans_emiss_calc_introgression\n",
    "\n",
    "transitions, emissions, starting, hidden_states, observed_states = trans_emiss_calc_introgression(\n",
    "    t_1, t_1, t_C, t_2, t_upper, t_out, t_m,\n",
    "    N_AB, N_BC, N_ABC, r, m, n_int_AB, n_int_ABC)\n",
    "\n",
    "shutdown()\n",
    "\n",
    "transitions"
   ]
  },
  {
   "cell_type": "code",
   "execution_count": 63,
   "metadata": {},
   "outputs": [
    {
     "data": {
      "text/plain": [
       "0.186072577384884"
      ]
     },
     "execution_count": 63,
     "metadata": {},
     "output_type": "execute_result"
    }
   ],
   "source": [
    "m*(2/3)*np.exp(-(t_2+t_m)/(N_AB))+(1-m)*(2/3)*np.exp(-(t_2)/(N_BC))"
   ]
  },
  {
   "cell_type": "code",
   "execution_count": 62,
   "metadata": {},
   "outputs": [
    {
     "data": {
      "text/plain": [
       "0.18607257738488395"
      ]
     },
     "execution_count": 62,
     "metadata": {},
     "output_type": "execute_result"
    }
   ],
   "source": [
    "acc = 0\n",
    "for i in hidden_states:\n",
    "    if hidden_states[i][0] in [2, 3]:\n",
    "        acc += starting[i]\n",
    "acc"
   ]
  },
  {
   "cell_type": "code",
   "execution_count": 39,
   "metadata": {},
   "outputs": [],
   "source": [
    "pd.DataFrame(transitions, columns=[str(i) for i in hidden_states.values()]).to_csv(f'tables/transitions_{n_int_ABC}.csv', index = False)"
   ]
  },
  {
   "cell_type": "code",
   "execution_count": 40,
   "metadata": {},
   "outputs": [],
   "source": [
    "n_sites = 1_000_000\n",
    "\n",
    "demography = msprime.Demography()\n",
    "demography.add_population(name=\"A\", initial_size=N_AB, default_sampling_time=t_1-t_A)\n",
    "demography.add_population(name=\"B\", initial_size=N_AB, default_sampling_time=t_1-t_B)\n",
    "demography.add_population(name=\"B_anc\", initial_size=N_AB, initially_active=False)\n",
    "demography.add_population(name=\"C\", initial_size=N_BC, default_sampling_time=t_1+t_2-t_C)\n",
    "demography.add_population(name=\"D\", initial_size=N_AB, default_sampling_time=t_1-t_1)\n",
    "demography.add_population(name=\"AB\", initial_size=N_AB)\n",
    "demography.add_population(name=\"ABC\", initial_size=N_ABC)\n",
    "demography.add_population(name=\"ABCD\", initial_size=N_ABC)\n",
    "demography.add_admixture(time = t_1-t_m, derived=\"B\", ancestral=[\"B_anc\", \"C\"], proportions=(1-m, m))\n",
    "demography.add_population_split(time=t_1, derived=[\"A\", \"B_anc\"], ancestral=\"AB\")\n",
    "demography.add_population_split(time=t_1+t_2, derived=[\"AB\", \"C\"], ancestral=\"ABC\")\n",
    "demography.add_population_split(time=t_1+t_2+t_3, derived=[\"ABC\", \"D\"], ancestral=\"ABCD\")\n",
    "\n",
    "# demography.debug()\n",
    "\n",
    "ts = msprime.sim_ancestry(\n",
    "    {\"A\": 1, \"B\": 1, \"C\": 1,\n",
    "     \"D\": 1\n",
    "    },\n",
    "    demography=demography,\n",
    "    recombination_rate=r,\n",
    "    sequence_length=n_sites,\n",
    "    ploidy=1,\n",
    "    random_seed=seed\n",
    ")\n",
    "\n"
   ]
  },
  {
   "cell_type": "code",
   "execution_count": 41,
   "metadata": {},
   "outputs": [],
   "source": [
    "# Add mutations\n",
    "dct = {v: k for k, v in observed_states.items()}\n",
    "\n",
    "mutated_ts = msprime.sim_mutations(ts, rate=mu, random_seed=seed)\n",
    "\n",
    "nochange_lst = [dct['AAAA'], dct['CCCC'], dct['TTTT'], dct['GGGG']]\n",
    "sim_genome = np.random.choice(nochange_lst, n_sites)\n",
    "\n",
    "mut_lst = []\n",
    "mut_loc = []\n",
    "for variant in mutated_ts.variants():\n",
    "    mut_loc.append(variant.site.position)\n",
    "    mut_lst.append(''.join([variant.alleles[i] for i in variant.genotypes]))\n",
    "\n",
    "for i in range(len(mut_loc)):\n",
    "    sim_genome[int(mut_loc[i])] = dct[mut_lst[i]]\n",
    "\n",
    "E = sim_genome"
   ]
  },
  {
   "cell_type": "code",
   "execution_count": 42,
   "metadata": {},
   "outputs": [],
   "source": [
    "# from trails.optimizer import loglik_wrapper\n",
    "\n",
    "# loglik = loglik_wrapper(transitions, emissions, starting, [E])\n",
    "\n",
    "# loglik"
   ]
  },
  {
   "cell_type": "code",
   "execution_count": 43,
   "metadata": {},
   "outputs": [],
   "source": [
    "from trails.optimizer import post_prob_wrapper\n",
    "\n",
    "postprobs = post_prob_wrapper(transitions, emissions, starting, [E])\n"
   ]
  },
  {
   "cell_type": "code",
   "execution_count": 44,
   "metadata": {},
   "outputs": [],
   "source": [
    "postprobs_df = pd.DataFrame(postprobs[0], columns=[str(i) for i in hidden_states.values()])\n",
    "postprobs_df = postprobs_df[0:1000000]"
   ]
  },
  {
   "cell_type": "code",
   "execution_count": 45,
   "metadata": {},
   "outputs": [
    {
     "data": {
      "text/html": [
       "<div>\n",
       "<style scoped>\n",
       "    .dataframe tbody tr th:only-of-type {\n",
       "        vertical-align: middle;\n",
       "    }\n",
       "\n",
       "    .dataframe tbody tr th {\n",
       "        vertical-align: top;\n",
       "    }\n",
       "\n",
       "    .dataframe thead th {\n",
       "        text-align: right;\n",
       "    }\n",
       "</style>\n",
       "<table border=\"1\" class=\"dataframe\">\n",
       "  <thead>\n",
       "    <tr style=\"text-align: right;\">\n",
       "      <th></th>\n",
       "      <th>(0, 0, 0)</th>\n",
       "      <th>(1, 0, 0)</th>\n",
       "      <th>(2, 0, 0)</th>\n",
       "      <th>(3, 0, 0)</th>\n",
       "      <th>(4, 0, 0)</th>\n",
       "    </tr>\n",
       "  </thead>\n",
       "  <tbody>\n",
       "    <tr>\n",
       "      <th>0</th>\n",
       "      <td>0.988950</td>\n",
       "      <td>0.004027</td>\n",
       "      <td>0.003505</td>\n",
       "      <td>0.003504</td>\n",
       "      <td>0.000014</td>\n",
       "    </tr>\n",
       "    <tr>\n",
       "      <th>1</th>\n",
       "      <td>0.988956</td>\n",
       "      <td>0.004025</td>\n",
       "      <td>0.003503</td>\n",
       "      <td>0.003502</td>\n",
       "      <td>0.000014</td>\n",
       "    </tr>\n",
       "    <tr>\n",
       "      <th>2</th>\n",
       "      <td>0.988961</td>\n",
       "      <td>0.004024</td>\n",
       "      <td>0.003501</td>\n",
       "      <td>0.003501</td>\n",
       "      <td>0.000014</td>\n",
       "    </tr>\n",
       "    <tr>\n",
       "      <th>3</th>\n",
       "      <td>0.988967</td>\n",
       "      <td>0.004022</td>\n",
       "      <td>0.003499</td>\n",
       "      <td>0.003499</td>\n",
       "      <td>0.000014</td>\n",
       "    </tr>\n",
       "    <tr>\n",
       "      <th>4</th>\n",
       "      <td>0.988972</td>\n",
       "      <td>0.004020</td>\n",
       "      <td>0.003497</td>\n",
       "      <td>0.003497</td>\n",
       "      <td>0.000014</td>\n",
       "    </tr>\n",
       "    <tr>\n",
       "      <th>...</th>\n",
       "      <td>...</td>\n",
       "      <td>...</td>\n",
       "      <td>...</td>\n",
       "      <td>...</td>\n",
       "      <td>...</td>\n",
       "    </tr>\n",
       "    <tr>\n",
       "      <th>999995</th>\n",
       "      <td>0.282007</td>\n",
       "      <td>0.157284</td>\n",
       "      <td>0.180636</td>\n",
       "      <td>0.344756</td>\n",
       "      <td>0.035316</td>\n",
       "    </tr>\n",
       "    <tr>\n",
       "      <th>999996</th>\n",
       "      <td>0.281992</td>\n",
       "      <td>0.157306</td>\n",
       "      <td>0.180653</td>\n",
       "      <td>0.344730</td>\n",
       "      <td>0.035319</td>\n",
       "    </tr>\n",
       "    <tr>\n",
       "      <th>999997</th>\n",
       "      <td>0.281976</td>\n",
       "      <td>0.157328</td>\n",
       "      <td>0.180670</td>\n",
       "      <td>0.344704</td>\n",
       "      <td>0.035322</td>\n",
       "    </tr>\n",
       "    <tr>\n",
       "      <th>999998</th>\n",
       "      <td>0.281960</td>\n",
       "      <td>0.157350</td>\n",
       "      <td>0.180687</td>\n",
       "      <td>0.344678</td>\n",
       "      <td>0.035324</td>\n",
       "    </tr>\n",
       "    <tr>\n",
       "      <th>999999</th>\n",
       "      <td>0.281945</td>\n",
       "      <td>0.157372</td>\n",
       "      <td>0.180705</td>\n",
       "      <td>0.344652</td>\n",
       "      <td>0.035327</td>\n",
       "    </tr>\n",
       "  </tbody>\n",
       "</table>\n",
       "<p>1000000 rows × 5 columns</p>\n",
       "</div>"
      ],
      "text/plain": [
       "        (0, 0, 0)  (1, 0, 0)  (2, 0, 0)  (3, 0, 0)  (4, 0, 0)\n",
       "0        0.988950   0.004027   0.003505   0.003504   0.000014\n",
       "1        0.988956   0.004025   0.003503   0.003502   0.000014\n",
       "2        0.988961   0.004024   0.003501   0.003501   0.000014\n",
       "3        0.988967   0.004022   0.003499   0.003499   0.000014\n",
       "4        0.988972   0.004020   0.003497   0.003497   0.000014\n",
       "...           ...        ...        ...        ...        ...\n",
       "999995   0.282007   0.157284   0.180636   0.344756   0.035316\n",
       "999996   0.281992   0.157306   0.180653   0.344730   0.035319\n",
       "999997   0.281976   0.157328   0.180670   0.344704   0.035322\n",
       "999998   0.281960   0.157350   0.180687   0.344678   0.035324\n",
       "999999   0.281945   0.157372   0.180705   0.344652   0.035327\n",
       "\n",
       "[1000000 rows x 5 columns]"
      ]
     },
     "execution_count": 45,
     "metadata": {},
     "output_type": "execute_result"
    }
   ],
   "source": [
    "postprobs_df"
   ]
  },
  {
   "cell_type": "code",
   "execution_count": 46,
   "metadata": {},
   "outputs": [],
   "source": [
    "# import demesdraw\n",
    "# import matplotlib.pyplot as plt"
   ]
  },
  {
   "cell_type": "code",
   "execution_count": 47,
   "metadata": {},
   "outputs": [],
   "source": [
    "# graph = msprime.Demography.to_demes(demography)\n",
    "# fig, ax = plt.subplots()  # use plt.rcParams[\"figure.figsize\"]\n",
    "# demesdraw.tubes(graph, ax=ax, seed=1)\n",
    "# plt.show()"
   ]
  },
  {
   "cell_type": "code",
   "execution_count": 48,
   "metadata": {},
   "outputs": [],
   "source": [
    "# ts.draw_svg(y_axis=True)"
   ]
  },
  {
   "cell_type": "code",
   "execution_count": 49,
   "metadata": {},
   "outputs": [],
   "source": [
    "cut_ABC = t_1+t_2+cutpoints_ABC(n_int_ABC, 1/N_ABC)\n",
    "cut_AB = t_1+cutpoints_AB(n_int_AB, t_2, 1/N_AB)\n",
    "cut_AB_2 = np.array([t_1-t_m]+list(cut_AB)[1::])\n",
    "\n",
    "left_lst = []\n",
    "right_lst = []\n",
    "tree_state = []\n",
    "t_AB_vec = []\n",
    "t_ABC_vec = []\n",
    "for t in ts.trees():\n",
    "    # Append start coordinate\n",
    "    left_lst.append(t.interval.left)\n",
    "    # Append end coordinate\n",
    "    right_lst.append(t.interval.right-1)\n",
    "    # Get all non-zero coalescent times\n",
    "    ntimes = [ts.nodes()[n].time for n in t.nodes() if ts.nodes()[n].time not in [0, t_1-t_A, t_1-t_B, t_1-t_C]]\n",
    "    ntimes = sorted(ntimes)\n",
    "    # Get time of the first event\n",
    "    mint = ntimes[0]\n",
    "    mint2 = ntimes[1]\n",
    "    # Find topology\n",
    "    find_re = re.findall(\"n\\d,n\\d\", t.as_newick(include_branch_lengths=False))[0]\n",
    "    # Sort species within topology\n",
    "    find_re = sorted(find_re.split(','))\n",
    "    # If V0 or V1\n",
    "    if find_re == ['n0', 'n1']:\n",
    "        # If the time of the first coalescent is larger than the deepest speciation event\n",
    "        if mint>=(t_1+t_2):\n",
    "            state = (1, (mint>cut_ABC).sum()-1, (mint2>cut_ABC).sum()-1)\n",
    "            # Append V1 state\n",
    "        else:\n",
    "            state = (0, (mint>cut_AB).sum()-1, (mint2>cut_ABC).sum()-1)\n",
    "            # Append V0 state\n",
    "    # If V2\n",
    "    elif find_re == ['n0', 'n2']:\n",
    "        state = (2, (mint>cut_ABC).sum()-1, (mint2>cut_ABC).sum()-1)\n",
    "    # If V3\n",
    "    elif find_re == ['n1', 'n2']:\n",
    "        if mint>=(t_1+t_2):\n",
    "            state = (3, (mint>cut_ABC).sum()-1, (mint2>cut_ABC).sum()-1)\n",
    "        else:\n",
    "            state = (4, (mint>cut_AB_2).sum()-1, (mint2>cut_ABC).sum()-1)\n",
    "    else:\n",
    "        state = (5, (mint>cut_ABC).sum()-1, (mint2>cut_ABC).sum()-1)\n",
    "        print((find_re, (mint>cut_ABC).sum()-1, (mint2>cut_ABC).sum()-1))\n",
    "    tree_state.append(state)\n",
    "    t_AB_vec.append(mint)\n",
    "    t_ABC_vec.append(mint2)"
   ]
  },
  {
   "cell_type": "code",
   "execution_count": 50,
   "metadata": {},
   "outputs": [
    {
     "data": {
      "text/plain": [
       "{(0, 0, 0), (1, 0, 0), (2, 0, 0), (3, 0, 0), (4, 0, 0)}"
      ]
     },
     "execution_count": 50,
     "metadata": {},
     "output_type": "execute_result"
    }
   ],
   "source": [
    "set(tree_state)"
   ]
  },
  {
   "cell_type": "code",
   "execution_count": 51,
   "metadata": {},
   "outputs": [
    {
     "data": {
      "text/html": [
       "<div>\n",
       "<style scoped>\n",
       "    .dataframe tbody tr th:only-of-type {\n",
       "        vertical-align: middle;\n",
       "    }\n",
       "\n",
       "    .dataframe tbody tr th {\n",
       "        vertical-align: top;\n",
       "    }\n",
       "\n",
       "    .dataframe thead th {\n",
       "        text-align: right;\n",
       "    }\n",
       "</style>\n",
       "<table border=\"1\" class=\"dataframe\">\n",
       "  <thead>\n",
       "    <tr style=\"text-align: right;\">\n",
       "      <th></th>\n",
       "      <th>state</th>\n",
       "      <th>start</th>\n",
       "      <th>end</th>\n",
       "    </tr>\n",
       "  </thead>\n",
       "  <tbody>\n",
       "    <tr>\n",
       "      <th>0</th>\n",
       "      <td>(0, 0, 0)</td>\n",
       "      <td>0.0</td>\n",
       "      <td>1497.0</td>\n",
       "    </tr>\n",
       "    <tr>\n",
       "      <th>1</th>\n",
       "      <td>(0, 0, 0)</td>\n",
       "      <td>1498.0</td>\n",
       "      <td>3105.0</td>\n",
       "    </tr>\n",
       "    <tr>\n",
       "      <th>2</th>\n",
       "      <td>(0, 0, 0)</td>\n",
       "      <td>3106.0</td>\n",
       "      <td>8300.0</td>\n",
       "    </tr>\n",
       "    <tr>\n",
       "      <th>3</th>\n",
       "      <td>(0, 0, 0)</td>\n",
       "      <td>8301.0</td>\n",
       "      <td>10665.0</td>\n",
       "    </tr>\n",
       "    <tr>\n",
       "      <th>4</th>\n",
       "      <td>(0, 0, 0)</td>\n",
       "      <td>10666.0</td>\n",
       "      <td>14327.0</td>\n",
       "    </tr>\n",
       "    <tr>\n",
       "      <th>...</th>\n",
       "      <td>...</td>\n",
       "      <td>...</td>\n",
       "      <td>...</td>\n",
       "    </tr>\n",
       "    <tr>\n",
       "      <th>892</th>\n",
       "      <td>(3, 0, 0)</td>\n",
       "      <td>987168.0</td>\n",
       "      <td>991862.0</td>\n",
       "    </tr>\n",
       "    <tr>\n",
       "      <th>893</th>\n",
       "      <td>(0, 0, 0)</td>\n",
       "      <td>991863.0</td>\n",
       "      <td>993045.0</td>\n",
       "    </tr>\n",
       "    <tr>\n",
       "      <th>894</th>\n",
       "      <td>(0, 0, 0)</td>\n",
       "      <td>993046.0</td>\n",
       "      <td>998161.0</td>\n",
       "    </tr>\n",
       "    <tr>\n",
       "      <th>895</th>\n",
       "      <td>(0, 0, 0)</td>\n",
       "      <td>998162.0</td>\n",
       "      <td>999065.0</td>\n",
       "    </tr>\n",
       "    <tr>\n",
       "      <th>896</th>\n",
       "      <td>(0, 0, 0)</td>\n",
       "      <td>999066.0</td>\n",
       "      <td>999999.0</td>\n",
       "    </tr>\n",
       "  </tbody>\n",
       "</table>\n",
       "<p>897 rows × 3 columns</p>\n",
       "</div>"
      ],
      "text/plain": [
       "         state     start       end\n",
       "0    (0, 0, 0)       0.0    1497.0\n",
       "1    (0, 0, 0)    1498.0    3105.0\n",
       "2    (0, 0, 0)    3106.0    8300.0\n",
       "3    (0, 0, 0)    8301.0   10665.0\n",
       "4    (0, 0, 0)   10666.0   14327.0\n",
       "..         ...       ...       ...\n",
       "892  (3, 0, 0)  987168.0  991862.0\n",
       "893  (0, 0, 0)  991863.0  993045.0\n",
       "894  (0, 0, 0)  993046.0  998161.0\n",
       "895  (0, 0, 0)  998162.0  999065.0\n",
       "896  (0, 0, 0)  999066.0  999999.0\n",
       "\n",
       "[897 rows x 3 columns]"
      ]
     },
     "execution_count": 51,
     "metadata": {},
     "output_type": "execute_result"
    }
   ],
   "source": [
    "df = pd.DataFrame()\n",
    "df['state'] = [str(i) for i in tree_state]\n",
    "df['start'] = left_lst\n",
    "df['end'] = right_lst\n",
    "df"
   ]
  },
  {
   "cell_type": "code",
   "execution_count": 52,
   "metadata": {},
   "outputs": [],
   "source": [
    "df.to_csv(f'./tables/df_{n_int_ABC}.csv', index = False)\n",
    "postprobs_df.to_csv(f'./tables/postprobs_df_{n_int_ABC}.csv', index = False)"
   ]
  },
  {
   "cell_type": "code",
   "execution_count": null,
   "metadata": {},
   "outputs": [],
   "source": []
  }
 ],
 "metadata": {
  "kernelspec": {
   "display_name": "phasetype",
   "language": "python",
   "name": "python3"
  },
  "language_info": {
   "codemirror_mode": {
    "name": "ipython",
    "version": 3
   },
   "file_extension": ".py",
   "mimetype": "text/x-python",
   "name": "python",
   "nbconvert_exporter": "python",
   "pygments_lexer": "ipython3",
   "version": "3.8.18"
  },
  "orig_nbformat": 4
 },
 "nbformat": 4,
 "nbformat_minor": 2
}
