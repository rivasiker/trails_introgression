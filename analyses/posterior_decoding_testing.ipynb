{
 "cells": [
  {
   "cell_type": "code",
   "execution_count": 34,
   "metadata": {},
   "outputs": [],
   "source": [
    "import msprime\n",
    "from trails.cutpoints import cutpoints_ABC, cutpoints_AB\n",
    "import re\n",
    "from ray import shutdown\n",
    "# %load_ext rpy2.ipython"
   ]
  },
  {
   "cell_type": "code",
   "execution_count": 35,
   "metadata": {},
   "outputs": [],
   "source": [
    "import pandas as pd\n",
    "import numpy as np\n",
    "\n",
    "n_int_AB = 1\n",
    "n_int_ABC = 1\n",
    "\n",
    "\n",
    "mu = 2e-8\n",
    "g = 25\n",
    "N_AB = 10_000*2*mu\n",
    "N_BC = 5_000*2*mu\n",
    "N_ABC = 10_000*2*mu\n",
    "N_ref = N_ABC\n",
    "t_1 = 60_000/g*mu\n",
    "t_2 = (600_000/g*mu-t_1)\n",
    "t_3 = (6_000_000/g*mu-t_2)\n",
    "t_A = t_1\n",
    "t_B = t_1\n",
    "t_C = t_1+t_2\n",
    "r = 1e-8/mu\n",
    "t_m = t_1-54_000/g*mu\n",
    "m = 0.05\n",
    "tot_lst = []\n",
    "t_A = t_1\n",
    "t_B = t_1\n",
    "t_C = t_1+t_2\n",
    "mu = mu/mu\n",
    "\n",
    "\n",
    "# t_A = 3.1620008490961066e-05\t\n",
    "# t_B = 2.4e-05\t\n",
    "# t_C = 0.0005055876154267558\t\n",
    "# t_2 = 0.00046274102467880535\t\n",
    "# t_upper = 0.0047843455532931446\t\n",
    "# t_m = 7.776608669717413e-06\t\n",
    "# N_AB = 0.0004616482106878883\t\n",
    "# N_BC = 0.00018440568432470078\t\n",
    "# N_ABC = 0.00042033924549322356\t\n",
    "# r = 0.3893330871941284\t\n",
    "# m = 0.04868512817268997\n",
    "# mu = 1\n",
    "# t_C_prime = t_C-t_2\n",
    "# t_1 = max([t_A, t_B, t_C_prime])\n",
    "# t_3 = t_upper+cutpoints_ABC(n_int_ABC, 1/N_ABC)[-2]\n",
    "\n",
    "\n",
    "\n",
    "t_out = t_1+t_2+t_3+2*N_ABC\n",
    "\n",
    "\n",
    "seed = 2"
   ]
  },
  {
   "cell_type": "code",
   "execution_count": 36,
   "metadata": {},
   "outputs": [
    {
     "data": {
      "text/plain": [
       "0.08422406774758104"
      ]
     },
     "execution_count": 36,
     "metadata": {},
     "output_type": "execute_result"
    }
   ],
   "source": [
    "m*(2/3)*np.exp(-(t_2+t_m)/(N_AB))+(1-m)*(2/3)*np.exp(-(t_2)/(N_BC))"
   ]
  },
  {
   "cell_type": "code",
   "execution_count": 37,
   "metadata": {},
   "outputs": [
    {
     "data": {
      "text/plain": [
       "False"
      ]
     },
     "execution_count": 37,
     "metadata": {},
     "output_type": "execute_result"
    }
   ],
   "source": [
    "t_m > t_A"
   ]
  },
  {
   "cell_type": "code",
   "execution_count": 38,
   "metadata": {},
   "outputs": [
    {
     "data": {
      "text/plain": [
       "array([[9.99923348e-01, 2.52477427e-05, 2.52477427e-05, 2.52477427e-05,\n",
       "        9.08453038e-07],\n",
       "       [1.34638911e-04, 9.99686824e-01, 8.74990680e-05, 8.73511422e-05,\n",
       "        3.68710521e-06],\n",
       "       [1.34638911e-04, 8.74990680e-05, 9.99688924e-01, 8.52511831e-05,\n",
       "        3.68710521e-06],\n",
       "       [1.34638911e-04, 8.73511422e-05, 8.52511831e-05, 9.99689072e-01,\n",
       "        3.68710521e-06],\n",
       "       [1.28452305e-05, 9.77635393e-06, 9.77635393e-06, 9.77635393e-06,\n",
       "        9.99957826e-01]])"
      ]
     },
     "execution_count": 38,
     "metadata": {},
     "output_type": "execute_result"
    }
   ],
   "source": [
    "from trails.optimizer import trans_emiss_calc_introgression\n",
    "\n",
    "transitions, emissions, starting, hidden_states, observed_states = trans_emiss_calc_introgression(\n",
    "    t_1, t_1, t_C, t_2, t_upper, t_out, t_m,\n",
    "    N_AB, N_BC, N_ABC, r, m, n_int_AB, n_int_ABC)\n",
    "\n",
    "shutdown()\n",
    "\n",
    "transitions"
   ]
  },
  {
   "cell_type": "code",
   "execution_count": 39,
   "metadata": {},
   "outputs": [
    {
     "data": {
      "text/plain": [
       "array([0.62738425, 0.11764828, 0.11764828, 0.11764828, 0.04437049])"
      ]
     },
     "execution_count": 39,
     "metadata": {},
     "output_type": "execute_result"
    }
   ],
   "source": [
    "starting"
   ]
  },
  {
   "cell_type": "code",
   "execution_count": 40,
   "metadata": {},
   "outputs": [],
   "source": [
    "pd.DataFrame(transitions, columns=[str(i) for i in hidden_states.values()]).to_csv(f'tables/transitions_{n_int_ABC}.csv', index = False)"
   ]
  },
  {
   "cell_type": "code",
   "execution_count": 41,
   "metadata": {},
   "outputs": [],
   "source": [
    "n_sites = 1_000_000\n",
    "\n",
    "demography = msprime.Demography()\n",
    "demography.add_population(name=\"A\", initial_size=N_AB, default_sampling_time=t_1-t_A)\n",
    "demography.add_population(name=\"B\", initial_size=N_AB, default_sampling_time=t_1-t_B)\n",
    "demography.add_population(name=\"B_anc\", initial_size=N_AB, initially_active=False)\n",
    "demography.add_population(name=\"C\", initial_size=N_BC, default_sampling_time=t_1+t_2-t_C)\n",
    "demography.add_population(name=\"D\", initial_size=N_AB, default_sampling_time=t_1-t_1)\n",
    "demography.add_population(name=\"AB\", initial_size=N_AB)\n",
    "demography.add_population(name=\"ABC\", initial_size=N_ABC)\n",
    "demography.add_population(name=\"ABCD\", initial_size=N_ABC)\n",
    "demography.add_admixture(time = t_1-t_m, derived=\"B\", ancestral=[\"B_anc\", \"C\"], proportions=(1-m, m))\n",
    "demography.add_population_split(time=t_1, derived=[\"A\", \"B_anc\"], ancestral=\"AB\")\n",
    "demography.add_population_split(time=t_1+t_2, derived=[\"AB\", \"C\"], ancestral=\"ABC\")\n",
    "demography.add_population_split(time=t_1+t_2+t_3, derived=[\"ABC\", \"D\"], ancestral=\"ABCD\")\n",
    "\n",
    "# demography.debug()\n",
    "\n",
    "ts = msprime.sim_ancestry(\n",
    "    {\"A\": 1, \"B\": 1, \"C\": 1,\n",
    "     \"D\": 1\n",
    "    },\n",
    "    demography=demography,\n",
    "    recombination_rate=r,\n",
    "    sequence_length=n_sites,\n",
    "    ploidy=1,\n",
    "    random_seed=seed\n",
    ")\n",
    "\n"
   ]
  },
  {
   "cell_type": "code",
   "execution_count": 42,
   "metadata": {},
   "outputs": [],
   "source": [
    "# Add mutations\n",
    "dct = {v: k for k, v in observed_states.items()}\n",
    "\n",
    "mutated_ts = msprime.sim_mutations(ts, rate=mu, random_seed=seed)\n",
    "\n",
    "nochange_lst = [dct['AAAA'], dct['CCCC'], dct['TTTT'], dct['GGGG']]\n",
    "sim_genome = np.random.choice(nochange_lst, n_sites)\n",
    "\n",
    "mut_lst = []\n",
    "mut_loc = []\n",
    "for variant in mutated_ts.variants():\n",
    "    mut_loc.append(variant.site.position)\n",
    "    mut_lst.append(''.join([variant.alleles[i] for i in variant.genotypes]))\n",
    "\n",
    "for i in range(len(mut_loc)):\n",
    "    sim_genome[int(mut_loc[i])] = dct[mut_lst[i]]\n",
    "\n",
    "E = sim_genome"
   ]
  },
  {
   "cell_type": "code",
   "execution_count": 43,
   "metadata": {},
   "outputs": [],
   "source": [
    "# from trails.optimizer import loglik_wrapper\n",
    "\n",
    "# loglik = loglik_wrapper(transitions, emissions, starting, [E])\n",
    "\n",
    "# loglik"
   ]
  },
  {
   "cell_type": "code",
   "execution_count": 44,
   "metadata": {},
   "outputs": [],
   "source": [
    "from trails.optimizer import post_prob_wrapper\n",
    "\n",
    "postprobs = post_prob_wrapper(transitions, emissions, starting, [E])\n"
   ]
  },
  {
   "cell_type": "code",
   "execution_count": 45,
   "metadata": {},
   "outputs": [],
   "source": [
    "postprobs_df = pd.DataFrame(postprobs[0], columns=[str(i) for i in hidden_states.values()])\n",
    "postprobs_df = postprobs_df[0:1000000]"
   ]
  },
  {
   "cell_type": "code",
   "execution_count": 46,
   "metadata": {},
   "outputs": [],
   "source": [
    "postprobs_df.to_csv(f'./tables/postprobs_df_{n_int_ABC}.csv', index = False)"
   ]
  },
  {
   "cell_type": "code",
   "execution_count": 47,
   "metadata": {},
   "outputs": [
    {
     "data": {
      "text/html": [
       "<div>\n",
       "<style scoped>\n",
       "    .dataframe tbody tr th:only-of-type {\n",
       "        vertical-align: middle;\n",
       "    }\n",
       "\n",
       "    .dataframe tbody tr th {\n",
       "        vertical-align: top;\n",
       "    }\n",
       "\n",
       "    .dataframe thead th {\n",
       "        text-align: right;\n",
       "    }\n",
       "</style>\n",
       "<table border=\"1\" class=\"dataframe\">\n",
       "  <thead>\n",
       "    <tr style=\"text-align: right;\">\n",
       "      <th></th>\n",
       "      <th>(0, 0, 0)</th>\n",
       "      <th>(1, 0, 0)</th>\n",
       "      <th>(2, 0, 0)</th>\n",
       "      <th>(3, 0, 0)</th>\n",
       "      <th>(4, 0, 0)</th>\n",
       "    </tr>\n",
       "  </thead>\n",
       "  <tbody>\n",
       "    <tr>\n",
       "      <th>0</th>\n",
       "      <td>0.975709</td>\n",
       "      <td>0.008257</td>\n",
       "      <td>0.006603</td>\n",
       "      <td>0.009264</td>\n",
       "      <td>0.000167</td>\n",
       "    </tr>\n",
       "    <tr>\n",
       "      <th>1</th>\n",
       "      <td>0.975721</td>\n",
       "      <td>0.008254</td>\n",
       "      <td>0.006599</td>\n",
       "      <td>0.009260</td>\n",
       "      <td>0.000167</td>\n",
       "    </tr>\n",
       "    <tr>\n",
       "      <th>2</th>\n",
       "      <td>0.975732</td>\n",
       "      <td>0.008250</td>\n",
       "      <td>0.006594</td>\n",
       "      <td>0.009257</td>\n",
       "      <td>0.000167</td>\n",
       "    </tr>\n",
       "    <tr>\n",
       "      <th>3</th>\n",
       "      <td>0.975744</td>\n",
       "      <td>0.008246</td>\n",
       "      <td>0.006590</td>\n",
       "      <td>0.009254</td>\n",
       "      <td>0.000167</td>\n",
       "    </tr>\n",
       "    <tr>\n",
       "      <th>4</th>\n",
       "      <td>0.975756</td>\n",
       "      <td>0.008242</td>\n",
       "      <td>0.006585</td>\n",
       "      <td>0.009250</td>\n",
       "      <td>0.000167</td>\n",
       "    </tr>\n",
       "    <tr>\n",
       "      <th>...</th>\n",
       "      <td>...</td>\n",
       "      <td>...</td>\n",
       "      <td>...</td>\n",
       "      <td>...</td>\n",
       "      <td>...</td>\n",
       "    </tr>\n",
       "    <tr>\n",
       "      <th>999995</th>\n",
       "      <td>0.854632</td>\n",
       "      <td>0.064148</td>\n",
       "      <td>0.030321</td>\n",
       "      <td>0.048860</td>\n",
       "      <td>0.002039</td>\n",
       "    </tr>\n",
       "    <tr>\n",
       "      <th>999996</th>\n",
       "      <td>0.854531</td>\n",
       "      <td>0.064181</td>\n",
       "      <td>0.030355</td>\n",
       "      <td>0.048893</td>\n",
       "      <td>0.002040</td>\n",
       "    </tr>\n",
       "    <tr>\n",
       "      <th>999997</th>\n",
       "      <td>0.854430</td>\n",
       "      <td>0.064214</td>\n",
       "      <td>0.030388</td>\n",
       "      <td>0.048926</td>\n",
       "      <td>0.002042</td>\n",
       "    </tr>\n",
       "    <tr>\n",
       "      <th>999998</th>\n",
       "      <td>0.854329</td>\n",
       "      <td>0.064246</td>\n",
       "      <td>0.030421</td>\n",
       "      <td>0.048959</td>\n",
       "      <td>0.002044</td>\n",
       "    </tr>\n",
       "    <tr>\n",
       "      <th>999999</th>\n",
       "      <td>0.854228</td>\n",
       "      <td>0.064279</td>\n",
       "      <td>0.030455</td>\n",
       "      <td>0.048992</td>\n",
       "      <td>0.002046</td>\n",
       "    </tr>\n",
       "  </tbody>\n",
       "</table>\n",
       "<p>1000000 rows × 5 columns</p>\n",
       "</div>"
      ],
      "text/plain": [
       "        (0, 0, 0)  (1, 0, 0)  (2, 0, 0)  (3, 0, 0)  (4, 0, 0)\n",
       "0        0.975709   0.008257   0.006603   0.009264   0.000167\n",
       "1        0.975721   0.008254   0.006599   0.009260   0.000167\n",
       "2        0.975732   0.008250   0.006594   0.009257   0.000167\n",
       "3        0.975744   0.008246   0.006590   0.009254   0.000167\n",
       "4        0.975756   0.008242   0.006585   0.009250   0.000167\n",
       "...           ...        ...        ...        ...        ...\n",
       "999995   0.854632   0.064148   0.030321   0.048860   0.002039\n",
       "999996   0.854531   0.064181   0.030355   0.048893   0.002040\n",
       "999997   0.854430   0.064214   0.030388   0.048926   0.002042\n",
       "999998   0.854329   0.064246   0.030421   0.048959   0.002044\n",
       "999999   0.854228   0.064279   0.030455   0.048992   0.002046\n",
       "\n",
       "[1000000 rows x 5 columns]"
      ]
     },
     "execution_count": 47,
     "metadata": {},
     "output_type": "execute_result"
    }
   ],
   "source": [
    "postprobs_df"
   ]
  },
  {
   "cell_type": "code",
   "execution_count": 48,
   "metadata": {},
   "outputs": [],
   "source": [
    "# import demesdraw\n",
    "# import matplotlib.pyplot as plt"
   ]
  },
  {
   "cell_type": "code",
   "execution_count": 49,
   "metadata": {},
   "outputs": [],
   "source": [
    "# graph = msprime.Demography.to_demes(demography)\n",
    "# fig, ax = plt.subplots()  # use plt.rcParams[\"figure.figsize\"]\n",
    "# demesdraw.tubes(graph, ax=ax, seed=1)\n",
    "# plt.show()"
   ]
  },
  {
   "cell_type": "code",
   "execution_count": 50,
   "metadata": {},
   "outputs": [],
   "source": [
    "# ts.draw_svg(y_axis=True)"
   ]
  },
  {
   "cell_type": "code",
   "execution_count": 51,
   "metadata": {},
   "outputs": [],
   "source": [
    "cut_ABC = t_1+t_2+cutpoints_ABC(n_int_ABC, 1/N_ABC)\n",
    "cut_AB = t_1+cutpoints_AB(n_int_AB, t_2, 1/N_AB)\n",
    "cut_AB_2 = np.array([t_1-t_m]+list(cut_AB)[1::])\n",
    "\n",
    "left_lst = []\n",
    "right_lst = []\n",
    "tree_state = []\n",
    "t_AB_vec = []\n",
    "t_ABC_vec = []\n",
    "for t in ts.trees():\n",
    "    # Append start coordinate\n",
    "    left_lst.append(t.interval.left)\n",
    "    # Append end coordinate\n",
    "    right_lst.append(t.interval.right-1)\n",
    "    # Get all non-zero coalescent times\n",
    "    ntimes = [ts.nodes()[n].time for n in t.nodes() if ts.nodes()[n].time not in [0, t_1-t_A, t_1-t_B, t_1-t_C]]\n",
    "    ntimes = sorted(ntimes)\n",
    "    # Get time of the first event\n",
    "    mint = ntimes[0]\n",
    "    mint2 = ntimes[1]\n",
    "    # Find topology\n",
    "    find_re = re.findall(\"n\\d,n\\d\", t.as_newick(include_branch_lengths=False))[0]\n",
    "    # Sort species within topology\n",
    "    find_re = sorted(find_re.split(','))\n",
    "    # If V0 or V1\n",
    "    if find_re == ['n0', 'n1']:\n",
    "        # If the time of the first coalescent is larger than the deepest speciation event\n",
    "        if mint>=(t_1+t_2):\n",
    "            state = (1, (mint>cut_ABC).sum()-1, (mint2>cut_ABC).sum()-1)\n",
    "            # Append V1 state\n",
    "        else:\n",
    "            state = (0, (mint>cut_AB).sum()-1, (mint2>cut_ABC).sum()-1)\n",
    "            # Append V0 state\n",
    "    # If V2\n",
    "    elif find_re == ['n0', 'n2']:\n",
    "        state = (2, (mint>cut_ABC).sum()-1, (mint2>cut_ABC).sum()-1)\n",
    "    # If V3\n",
    "    elif find_re == ['n1', 'n2']:\n",
    "        if mint>=(t_1+t_2):\n",
    "            state = (3, (mint>cut_ABC).sum()-1, (mint2>cut_ABC).sum()-1)\n",
    "        else:\n",
    "            state = (4, (mint>cut_AB_2).sum()-1, (mint2>cut_ABC).sum()-1)\n",
    "    else:\n",
    "        state = (5, (mint>cut_ABC).sum()-1, (mint2>cut_ABC).sum()-1)\n",
    "        print((find_re, (mint>cut_ABC).sum()-1, (mint2>cut_ABC).sum()-1))\n",
    "    tree_state.append(state)\n",
    "    t_AB_vec.append(mint)\n",
    "    t_ABC_vec.append(mint2)"
   ]
  },
  {
   "cell_type": "code",
   "execution_count": 52,
   "metadata": {},
   "outputs": [
    {
     "data": {
      "text/plain": [
       "{(0, 0, 0), (1, 0, 0), (2, 0, 0), (3, 0, 0), (4, 0, 0)}"
      ]
     },
     "execution_count": 52,
     "metadata": {},
     "output_type": "execute_result"
    }
   ],
   "source": [
    "set(tree_state)"
   ]
  },
  {
   "cell_type": "code",
   "execution_count": 53,
   "metadata": {},
   "outputs": [
    {
     "data": {
      "text/html": [
       "<div>\n",
       "<style scoped>\n",
       "    .dataframe tbody tr th:only-of-type {\n",
       "        vertical-align: middle;\n",
       "    }\n",
       "\n",
       "    .dataframe tbody tr th {\n",
       "        vertical-align: top;\n",
       "    }\n",
       "\n",
       "    .dataframe thead th {\n",
       "        text-align: right;\n",
       "    }\n",
       "</style>\n",
       "<table border=\"1\" class=\"dataframe\">\n",
       "  <thead>\n",
       "    <tr style=\"text-align: right;\">\n",
       "      <th></th>\n",
       "      <th>state</th>\n",
       "      <th>start</th>\n",
       "      <th>end</th>\n",
       "    </tr>\n",
       "  </thead>\n",
       "  <tbody>\n",
       "    <tr>\n",
       "      <th>0</th>\n",
       "      <td>(1, 0, 0)</td>\n",
       "      <td>0.0</td>\n",
       "      <td>186.0</td>\n",
       "    </tr>\n",
       "    <tr>\n",
       "      <th>1</th>\n",
       "      <td>(0, 0, 0)</td>\n",
       "      <td>187.0</td>\n",
       "      <td>806.0</td>\n",
       "    </tr>\n",
       "    <tr>\n",
       "      <th>2</th>\n",
       "      <td>(0, 0, 0)</td>\n",
       "      <td>807.0</td>\n",
       "      <td>3624.0</td>\n",
       "    </tr>\n",
       "    <tr>\n",
       "      <th>3</th>\n",
       "      <td>(0, 0, 0)</td>\n",
       "      <td>3625.0</td>\n",
       "      <td>4189.0</td>\n",
       "    </tr>\n",
       "    <tr>\n",
       "      <th>4</th>\n",
       "      <td>(0, 0, 0)</td>\n",
       "      <td>4190.0</td>\n",
       "      <td>5207.0</td>\n",
       "    </tr>\n",
       "    <tr>\n",
       "      <th>...</th>\n",
       "      <td>...</td>\n",
       "      <td>...</td>\n",
       "      <td>...</td>\n",
       "    </tr>\n",
       "    <tr>\n",
       "      <th>1139</th>\n",
       "      <td>(0, 0, 0)</td>\n",
       "      <td>994842.0</td>\n",
       "      <td>996364.0</td>\n",
       "    </tr>\n",
       "    <tr>\n",
       "      <th>1140</th>\n",
       "      <td>(0, 0, 0)</td>\n",
       "      <td>996365.0</td>\n",
       "      <td>996787.0</td>\n",
       "    </tr>\n",
       "    <tr>\n",
       "      <th>1141</th>\n",
       "      <td>(0, 0, 0)</td>\n",
       "      <td>996788.0</td>\n",
       "      <td>998000.0</td>\n",
       "    </tr>\n",
       "    <tr>\n",
       "      <th>1142</th>\n",
       "      <td>(0, 0, 0)</td>\n",
       "      <td>998001.0</td>\n",
       "      <td>998715.0</td>\n",
       "    </tr>\n",
       "    <tr>\n",
       "      <th>1143</th>\n",
       "      <td>(0, 0, 0)</td>\n",
       "      <td>998716.0</td>\n",
       "      <td>999999.0</td>\n",
       "    </tr>\n",
       "  </tbody>\n",
       "</table>\n",
       "<p>1144 rows × 3 columns</p>\n",
       "</div>"
      ],
      "text/plain": [
       "          state     start       end\n",
       "0     (1, 0, 0)       0.0     186.0\n",
       "1     (0, 0, 0)     187.0     806.0\n",
       "2     (0, 0, 0)     807.0    3624.0\n",
       "3     (0, 0, 0)    3625.0    4189.0\n",
       "4     (0, 0, 0)    4190.0    5207.0\n",
       "...         ...       ...       ...\n",
       "1139  (0, 0, 0)  994842.0  996364.0\n",
       "1140  (0, 0, 0)  996365.0  996787.0\n",
       "1141  (0, 0, 0)  996788.0  998000.0\n",
       "1142  (0, 0, 0)  998001.0  998715.0\n",
       "1143  (0, 0, 0)  998716.0  999999.0\n",
       "\n",
       "[1144 rows x 3 columns]"
      ]
     },
     "execution_count": 53,
     "metadata": {},
     "output_type": "execute_result"
    }
   ],
   "source": [
    "df = pd.DataFrame()\n",
    "df['state'] = [str(i) for i in tree_state]\n",
    "df['start'] = left_lst\n",
    "df['end'] = right_lst\n",
    "df"
   ]
  },
  {
   "cell_type": "code",
   "execution_count": 54,
   "metadata": {},
   "outputs": [],
   "source": [
    "df.to_csv(f'./tables/df_{n_int_ABC}.csv', index = False)\n"
   ]
  },
  {
   "cell_type": "code",
   "execution_count": null,
   "metadata": {},
   "outputs": [],
   "source": []
  }
 ],
 "metadata": {
  "kernelspec": {
   "display_name": "phasetype",
   "language": "python",
   "name": "python3"
  },
  "language_info": {
   "codemirror_mode": {
    "name": "ipython",
    "version": 3
   },
   "file_extension": ".py",
   "mimetype": "text/x-python",
   "name": "python",
   "nbconvert_exporter": "python",
   "pygments_lexer": "ipython3",
   "version": "3.8.18"
  },
  "orig_nbformat": 4
 },
 "nbformat": 4,
 "nbformat_minor": 2
}
